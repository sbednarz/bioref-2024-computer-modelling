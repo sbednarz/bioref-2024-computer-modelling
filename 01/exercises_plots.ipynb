{
 "cells": [
  {
   "cell_type": "markdown",
   "id": "73ec3980-aa53-48e6-adac-dda064ffe8b4",
   "metadata": {},
   "source": [
    "# Visualization with Python (level 1)\n",
    "##### Study 02_arrays.ipynb and 03_plots.ipynb and then try to solve the exercises."
   ]
  },
  {
   "cell_type": "markdown",
   "id": "8fe5677f-b22b-411d-88b5-08d8c7bb645f",
   "metadata": {},
   "source": [
    "#### Ex. 1"
   ]
  },
  {
   "cell_type": "code",
   "execution_count": 81,
   "id": "abdc3f9d-6b08-434b-979b-64ba74934c3e",
   "metadata": {
    "tags": []
   },
   "outputs": [],
   "source": [
    "# Ex. 1\n",
    "# Create a common plot: y1(x) and y2(x)\n",
    "\n",
    "# x = 1,2,3,4\n",
    "# y1 = 4,6,7,8\n",
    "# y2 = 4,7,8,18\n"
   ]
  },
  {
   "cell_type": "code",
   "execution_count": 82,
   "id": "de0e3758-8180-4b4c-8d56-4d6be1b9ae72",
   "metadata": {
    "tags": []
   },
   "outputs": [],
   "source": [
    "# code here"
   ]
  },
  {
   "cell_type": "code",
   "execution_count": null,
   "id": "04666de6-7833-45ff-8d37-efa01fc44565",
   "metadata": {},
   "outputs": [],
   "source": []
  },
  {
   "cell_type": "markdown",
   "id": "33aead2a-b2ef-4f79-9fda-d52a1b1a7400",
   "metadata": {
    "tags": []
   },
   "source": [
    "#### Ex. 2"
   ]
  },
  {
   "cell_type": "code",
   "execution_count": 83,
   "id": "181a59d7-1c74-43cc-a9f8-858cf8dd23e0",
   "metadata": {
    "tags": []
   },
   "outputs": [],
   "source": [
    "# Ex. 2\n",
    "# Plot function y=x^2+5, for -2<x<2\n",
    "# and mark the minima.\n",
    "\n",
    "# code here"
   ]
  },
  {
   "cell_type": "markdown",
   "id": "8c095daa-e317-4e1e-9ed5-41f288bf4843",
   "metadata": {},
   "source": [
    "##### The solution/output:\n",
    "![](ex.2.png)"
   ]
  },
  {
   "cell_type": "markdown",
   "id": "090415f6-301b-49cd-a9aa-568fd047fd70",
   "metadata": {},
   "source": [
    "#### Ex. 3"
   ]
  },
  {
   "cell_type": "code",
   "execution_count": 84,
   "id": "7319aff9-af94-42b6-835f-fbe5d35bf24a",
   "metadata": {
    "tags": []
   },
   "outputs": [],
   "source": [
    "# Ex.3\n",
    "# Draw a rectangle using the 'plot' command.\n"
   ]
  },
  {
   "cell_type": "markdown",
   "id": "92ae4baa-c02e-42c5-94ab-a35bf4e3e495",
   "metadata": {},
   "source": [
    "##### The solution/output:\n",
    "![](ex.3.png)"
   ]
  },
  {
   "cell_type": "code",
   "execution_count": 85,
   "id": "ad72623c-4135-45e2-8934-54c9b5caf795",
   "metadata": {
    "tags": []
   },
   "outputs": [],
   "source": [
    "# Ex.4\n",
    "# Plot a chromatogram (see 03_plots.ipynb) expanding the range of x and y, as below:"
   ]
  },
  {
   "cell_type": "markdown",
   "id": "1dfe8d1f-9cb2-4f21-b515-2a6350e667f4",
   "metadata": {
    "tags": []
   },
   "source": [
    "##### The solution/output:\n",
    "![](ex.4.png)"
   ]
  },
  {
   "cell_type": "code",
   "execution_count": 86,
   "id": "0fcfa638-80ad-4eb3-a7c1-cf047c63f404",
   "metadata": {
    "tags": []
   },
   "outputs": [],
   "source": [
    "# Ex.5\n",
    "# Prepare two graphs: \n",
    "# a) an overlay plot of spectra (datafiles: spectra1.csv, spectra2.csv, spectra3.csv)\n",
    "# b) a shifted plot"
   ]
  },
  {
   "cell_type": "markdown",
   "id": "38684b01-c148-4583-8080-9d521a168044",
   "metadata": {},
   "source": [
    "##### The solution/output:\n",
    "![](ex.5.a.png)\n",
    "![](ex.5.b.png)"
   ]
  },
  {
   "cell_type": "code",
   "execution_count": null,
   "id": "0a113833-bf97-4f5a-a583-3b5a7dac6e4b",
   "metadata": {},
   "outputs": [],
   "source": []
  }
 ],
 "metadata": {
  "kernelspec": {
   "display_name": "Python 3 (ipykernel)",
   "language": "python",
   "name": "python3"
  },
  "language_info": {
   "codemirror_mode": {
    "name": "ipython",
    "version": 3
   },
   "file_extension": ".py",
   "mimetype": "text/x-python",
   "name": "python",
   "nbconvert_exporter": "python",
   "pygments_lexer": "ipython3",
   "version": "3.10.12"
  }
 },
 "nbformat": 4,
 "nbformat_minor": 5
}
