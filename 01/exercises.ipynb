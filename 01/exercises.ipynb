{
 "cells": [
  {
   "cell_type": "markdown",
   "id": "e79f3b71-118c-4e81-be24-0f4421c4346c",
   "metadata": {},
   "source": [
    "# Python calculations\n",
    "\n",
    "##### Study 02_arrays.ipynb, 03_plots.ipynb, 05_functions.ipynb, 06_equations.ipynb, 07_lists.ipynb and 08_loops.ipynb and then try to solve the exercises."
   ]
  },
  {
   "cell_type": "markdown",
   "id": "26a382ea-8a96-429f-9c6f-481435154e06",
   "metadata": {},
   "source": [
    "#### Ex. 1"
   ]
  },
  {
   "cell_type": "code",
   "execution_count": 8,
   "id": "0a4b7bdb-456d-4ec3-8b38-c282650e436e",
   "metadata": {
    "tags": []
   },
   "outputs": [],
   "source": [
    "# Solve an equation:\n",
    "# x^3 - 4x^2 + 6x = 24\n",
    "#\n",
    "# answer: 4\n",
    "\n",
    "\n"
   ]
  },
  {
   "cell_type": "markdown",
   "id": "6a750614-7245-45be-9f60-23d887f4756b",
   "metadata": {},
   "source": [
    "#### Ex. 2"
   ]
  },
  {
   "cell_type": "code",
   "execution_count": 9,
   "id": "6157df25-233b-4e9b-963a-3a6a9df70916",
   "metadata": {
    "tags": []
   },
   "outputs": [],
   "source": [
    "# solve system of equations:\n",
    "# x+y=10, x-y=4\n",
    "#\n",
    "# answer: x=7 y=3"
   ]
  },
  {
   "cell_type": "markdown",
   "id": "a62dc4a5-7060-4286-813a-f9fe9c0ff59d",
   "metadata": {
    "tags": []
   },
   "source": [
    "#### Ex. 3"
   ]
  },
  {
   "cell_type": "code",
   "execution_count": 10,
   "id": "a1391c56-eb1c-4e89-8ed2-d1b8b2ac4f45",
   "metadata": {
    "tags": []
   },
   "outputs": [],
   "source": [
    "# Solve the following equation with one unknown:\n",
    "# x^3 - 2x^2 = 9x - 10\n",
    "# Try guess values ranged from -10 to 10\n",
    "# How many roots you can find? Plot the function x^3 - 2x^2 - 9x + 10 = 0"
   ]
  },
  {
   "cell_type": "markdown",
   "id": "15c8faed-ed2f-445e-8b04-f9dcde6a8c2d",
   "metadata": {},
   "source": [
    "#### Ex. 4"
   ]
  },
  {
   "cell_type": "code",
   "execution_count": null,
   "id": "4f281efb-fb4b-4be8-9bd1-0d3f47a20087",
   "metadata": {},
   "outputs": [],
   "source": [
    "# Develop a script showing time trends based on the following data:\n",
    "# t = 0, 360, 1800, 2700, 3600, 7222 s\n",
    "# concentration = 0, 0.01, 0.02, 0.06, 0.12, 0.33\n",
    "# expressing time in minutes or hours (seperated plots).\n",
    "# Use time conversion functions:\n",
    "\n",
    "#def s2min(s):\n",
    "#....\n",
    "\n",
    "#def s2hours(s):\n",
    "#....\n",
    "\n",
    "\n",
    "\n"
   ]
  },
  {
   "cell_type": "markdown",
   "id": "7f9cc117-7d15-44a9-a519-c236d4d0b804",
   "metadata": {},
   "source": [
    "#### Ex. 5"
   ]
  },
  {
   "cell_type": "code",
   "execution_count": null,
   "id": "280b7f94-f7a7-4195-bc92-88420b065d24",
   "metadata": {},
   "outputs": [],
   "source": [
    "# Investigate graphically efect of parameter 'a' on the function f(x) = x^2 + ax + 6,\n",
    "# for a = <-5,5>\n",
    "# \n",
    "# Hint: to use loops and functions"
   ]
  }
 ],
 "metadata": {
  "kernelspec": {
   "display_name": "Python 3 (ipykernel)",
   "language": "python",
   "name": "python3"
  },
  "language_info": {
   "codemirror_mode": {
    "name": "ipython",
    "version": 3
   },
   "file_extension": ".py",
   "mimetype": "text/x-python",
   "name": "python",
   "nbconvert_exporter": "python",
   "pygments_lexer": "ipython3",
   "version": "3.10.12"
  }
 },
 "nbformat": 4,
 "nbformat_minor": 5
}
