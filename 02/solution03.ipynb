{
 "cells": [
  {
   "cell_type": "code",
   "execution_count": 7,
   "id": "656963bd-dfab-47fe-9f1c-1eb9a6fb6e25",
   "metadata": {},
   "outputs": [
    {
     "name": "stdout",
     "output_type": "stream",
     "text": [
      "solutions: F2=200.000 F3=800.000 F5=250.000\n",
      "solutions: x2b=0.900, x2t=0.100, x5t=0.182, x5x=0.818\n"
     ]
    }
   ],
   "source": [
    "import numpy as np\n",
    "from scipy.optimize import fsolve\n",
    "\n",
    "def model(X):\n",
    "    \n",
    "    F2 = X[0]\n",
    "    F3 = X[1]\n",
    "    F4 = X[2]\n",
    "    F5 = X[3]\n",
    "\n",
    "    x2b = X[4]\n",
    "    x2t = X[5]\n",
    "     \n",
    "    x5t = X[6]\n",
    "    x5x = X[7]\n",
    "    \n",
    "    \n",
    "    eq1 = F1*x1b - F2*x2b - F3*x3b\n",
    "    eq2 = F1*x1t - F2*x2t - F3*x3t\n",
    "    eq3 = F1*x1x - F2*x2x - F3*x3x\n",
    "    \n",
    "    eq4 = F3*x3b - F4*x4b - F5*x5b\n",
    "    eq5 = F3*x3t - F4*x4t - F5*x5t\n",
    "    eq6 = F3*x3x - F4*x4x - F5*x5x\n",
    "    \n",
    "    eq7 = 1 - x2b - x2t - x2x\n",
    "    eq8 = 1 - x5b - x5t - x5x\n",
    "    \n",
    "    return [eq1, eq2, eq3, eq4, eq5, eq6, eq7, eq8]\n",
    "    \n",
    "\n",
    "\n",
    "F1 = 1000\n",
    "\n",
    "x1b = 0.2\n",
    "x1t = 0.3\n",
    "x1x = 0.5\n",
    "\n",
    "x2x = 0\n",
    "\n",
    "x3b = 0.025\n",
    "x3t = 0.35\n",
    "x3x = 0.625\n",
    "\n",
    "x4b = 0.08\n",
    "x4t = 0.72\n",
    "x4x = 0.2\n",
    "\n",
    "x5b = 0\n",
    "\n",
    "guess = [500, 500, 500, 500, 0.5, 0.5, 0.5, 0.5]\n",
    "\n",
    "\n",
    "F2, F3, F4, F5, x2b, x2t, x5t, x5x = fsolve(model, guess)\n",
    "\n",
    "print(\"solutions: F2={:.3f} F3={:.3f} F5={:.3f}\".format(F2, F3, F4, F5))\n",
    "print(\"solutions: x2b={:.3f}, x2t={:.3f}, x5t={:.3f}, x5x={:.3f}\".format(x2b, x2t, x5t, x5x))\n",
    "\n"
   ]
  },
  {
   "cell_type": "code",
   "execution_count": null,
   "id": "8f511ea1-6014-4690-9f61-84d371f6b0c4",
   "metadata": {},
   "outputs": [],
   "source": []
  }
 ],
 "metadata": {
  "kernelspec": {
   "display_name": "Python 3 (ipykernel)",
   "language": "python",
   "name": "python3"
  },
  "language_info": {
   "codemirror_mode": {
    "name": "ipython",
    "version": 3
   },
   "file_extension": ".py",
   "mimetype": "text/x-python",
   "name": "python",
   "nbconvert_exporter": "python",
   "pygments_lexer": "ipython3",
   "version": "3.7.12"
  }
 },
 "nbformat": 4,
 "nbformat_minor": 5
}
