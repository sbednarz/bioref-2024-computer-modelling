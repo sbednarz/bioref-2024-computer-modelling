{
 "cells": [
  {
   "cell_type": "code",
   "execution_count": 1,
   "id": "656963bd-dfab-47fe-9f1c-1eb9a6fb6e25",
   "metadata": {},
   "outputs": [
    {
     "ename": "NameError",
     "evalue": "name 'mol' is not defined",
     "output_type": "error",
     "traceback": [
      "\u001b[0;31m---------------------------------------------------------------------------\u001b[0m",
      "\u001b[0;31mNameError\u001b[0m                                 Traceback (most recent call last)",
      "\u001b[0;32m/tmp/ipykernel_80/786979081.py\u001b[0m in \u001b[0;36m<module>\u001b[0;34m\u001b[0m\n\u001b[1;32m     17\u001b[0m \u001b[0;34m\u001b[0m\u001b[0m\n\u001b[1;32m     18\u001b[0m \u001b[0;34m\u001b[0m\u001b[0m\n\u001b[0;32m---> 19\u001b[0;31m \u001b[0mF1\u001b[0m \u001b[0;34m=\u001b[0m \u001b[0;36m100\u001b[0m \u001b[0;34m//\u001b[0m \u001b[0mmol\u001b[0m\u001b[0;34m/\u001b[0m\u001b[0mh\u001b[0m\u001b[0;34m\u001b[0m\u001b[0;34m\u001b[0m\u001b[0m\n\u001b[0m\u001b[1;32m     20\u001b[0m \u001b[0mx1e\u001b[0m \u001b[0;34m=\u001b[0m \u001b[0;36m0.333\u001b[0m\u001b[0;34m\u001b[0m\u001b[0;34m\u001b[0m\u001b[0m\n\u001b[1;32m     21\u001b[0m \u001b[0mx1p\u001b[0m \u001b[0;34m=\u001b[0m \u001b[0;36m0.333\u001b[0m\u001b[0;34m\u001b[0m\u001b[0;34m\u001b[0m\u001b[0m\n",
      "\u001b[0;31mNameError\u001b[0m: name 'mol' is not defined"
     ]
    }
   ],
   "source": [
    "import numpy as np\n",
    "from scipy.optimize import fsolve\n",
    "\n",
    "def model(X):\n",
    "    \n",
    "    F2 = X[0]\n",
    "    F3 = x[1]\n",
    "    x3p = x[2]\n",
    "    x3b = x[3]\n",
    "    \n",
    "    eq1 = F1 - F2 - F3\n",
    "    eq2 = F1*x1e - F2*x2e\n",
    "    eq3 = F1*x1p - F2*x2p - F3*x3p\n",
    "    eq4 = F1*x1b - F3*x3b\n",
    "    \n",
    "    return [eq1, eq2, eq3, eq4]\n",
    "\n",
    "\n",
    "F1 = 100 // mol/h\n",
    "x1e = 0.333\n",
    "x1p = 0.333\n",
    "x1b = 0.333\n",
    "\n",
    "x2e = 0.666\n",
    "x2p = 0.333\n",
    "\n",
    "guess = [1,1,1,1]\n",
    "\n",
    "F2, F3, x3p, x3b = fsolve(model, guess)\n",
    "\n",
    "print(\"solutions: {:.3f} {:.3f} {:.3f} {:.3f}\".format(F2, F3, x3p, x3b))\n"
   ]
  },
  {
   "cell_type": "code",
   "execution_count": null,
   "id": "8f511ea1-6014-4690-9f61-84d371f6b0c4",
   "metadata": {},
   "outputs": [],
   "source": []
  }
 ],
 "metadata": {
  "kernelspec": {
   "display_name": "Python 3 (ipykernel)",
   "language": "python",
   "name": "python3"
  },
  "language_info": {
   "codemirror_mode": {
    "name": "ipython",
    "version": 3
   },
   "file_extension": ".py",
   "mimetype": "text/x-python",
   "name": "python",
   "nbconvert_exporter": "python",
   "pygments_lexer": "ipython3",
   "version": "3.7.12"
  }
 },
 "nbformat": 4,
 "nbformat_minor": 5
}
