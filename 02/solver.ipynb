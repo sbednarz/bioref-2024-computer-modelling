{
 "cells": [
  {
   "cell_type": "markdown",
   "id": "df16d9b5-4058-4719-b969-adb7296b1a0e",
   "metadata": {},
   "source": [
    "Lets solve system of nonlinear equations:\n",
    "\n",
    "$3x_1^2 - 2x_2^3 = 25$\n",
    "\n",
    "$5x_1^3 + 4x_2^2 = 139$"
   ]
  },
  {
   "cell_type": "code",
   "execution_count": 24,
   "id": "656963bd-dfab-47fe-9f1c-1eb9a6fb6e25",
   "metadata": {},
   "outputs": [
    {
     "name": "stdout",
     "output_type": "stream",
     "text": [
      "3.000000000004579 1.0000000000039635\n"
     ]
    }
   ],
   "source": [
    "import numpy as np\n",
    "from scipy.optimize import fsolve\n",
    "\n",
    "def model(X):\n",
    "    x1, x2 = X\n",
    "    eq1 = 3*x1**2 - 2*x2**3 - 25\n",
    "    eq2 = 5*x1**3 + 4*x2**2 - 139\n",
    "    return [eq1, eq2]\n",
    "\n",
    "guess = [-100,-100]\n",
    "x1, x2 = fsolve(model, guess)\n",
    "\n",
    "# lazy report:\n",
    "print(x1, x2)\n",
    "\n",
    "# pretty report:\n",
    "# print(\"guess: {} solutions: {:.3f} {:.3f}\".format(guess, x1, x2))"
   ]
  },
  {
   "cell_type": "code",
   "execution_count": null,
   "id": "39bc6ec7-640b-4232-9351-e0d7866ebeaa",
   "metadata": {},
   "outputs": [],
   "source": []
  }
 ],
 "metadata": {
  "kernelspec": {
   "display_name": "Python 3 (ipykernel)",
   "language": "python",
   "name": "python3"
  },
  "language_info": {
   "codemirror_mode": {
    "name": "ipython",
    "version": 3
   },
   "file_extension": ".py",
   "mimetype": "text/x-python",
   "name": "python",
   "nbconvert_exporter": "python",
   "pygments_lexer": "ipython3",
   "version": "3.7.12"
  }
 },
 "nbformat": 4,
 "nbformat_minor": 5
}
