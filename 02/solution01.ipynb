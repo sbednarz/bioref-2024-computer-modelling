{
 "cells": [
  {
   "cell_type": "markdown",
   "id": "df16d9b5-4058-4719-b969-adb7296b1a0e",
   "metadata": {},
   "source": [
    "https://www.youtube.com/watch?v=KrrZB5LvXF4"
   ]
  },
  {
   "cell_type": "code",
   "execution_count": 1,
   "id": "656963bd-dfab-47fe-9f1c-1eb9a6fb6e25",
   "metadata": {},
   "outputs": [
    {
     "name": "stdout",
     "output_type": "stream",
     "text": [
      "guess: [1, 1], solutions: 20.000 80.000\n"
     ]
    }
   ],
   "source": [
    "import numpy as np\n",
    "from scipy.optimize import fsolve\n",
    "\n",
    "def model(X):\n",
    "    F2, F3 = X\n",
    "    eq1 = F1 - F2 - F3\n",
    "    eq2 = x1*F1 - x2*F2 - x3*F3\n",
    "    return [eq1, eq2]\n",
    "\n",
    "guess = [1,1]\n",
    "\n",
    "F1 = 100\n",
    "x1 = 0.3\n",
    "x2 = 0.7\n",
    "x3 = 0.2\n",
    "\n",
    "x1, x2 = fsolve(model, guess)\n",
    "\n",
    "print(\"guess: {}, solutions: {:.3f} {:.3f}\".format(guess, x1, x2))\n"
   ]
  },
  {
   "cell_type": "code",
   "execution_count": null,
   "id": "8f511ea1-6014-4690-9f61-84d371f6b0c4",
   "metadata": {},
   "outputs": [],
   "source": []
  }
 ],
 "metadata": {
  "kernelspec": {
   "display_name": "Python 3 (ipykernel)",
   "language": "python",
   "name": "python3"
  },
  "language_info": {
   "codemirror_mode": {
    "name": "ipython",
    "version": 3
   },
   "file_extension": ".py",
   "mimetype": "text/x-python",
   "name": "python",
   "nbconvert_exporter": "python",
   "pygments_lexer": "ipython3",
   "version": "3.7.12"
  }
 },
 "nbformat": 4,
 "nbformat_minor": 5
}
