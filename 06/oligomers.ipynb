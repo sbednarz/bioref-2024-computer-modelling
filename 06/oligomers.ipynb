{
  "nbformat": 4,
  "nbformat_minor": 0,
  "metadata": {
    "colab": {
      "provenance": []
    },
    "kernelspec": {
      "name": "python3",
      "display_name": "Python 3"
    },
    "language_info": {
      "name": "python"
    }
  },
  "cells": [
    {
      "cell_type": "code",
      "execution_count": null,
      "metadata": {
        "id": "8JULCcIFesbb"
      },
      "outputs": [],
      "source": [
        "import matplotlib.pyplot as plt\n",
        "import numpy as np\n",
        "from scipy.integrate import odeint\n",
        "\n",
        "\n",
        "# Develop a (simplified) model of polymerization:\n",
        "\n",
        "# M1 + M1 => M2, kp\n",
        "# M2 + M1 => M3, kp\n",
        "# M3 + M1 => M4, kp\n",
        "# M4 + M1 => M5, kp\n",
        "\n",
        "# Validate the model (mass balance).\n",
        "# When the monomer dissapear?\n",
        "# When pentamers appear in the reaction mixture?\n",
        "# Plot evolution of the system in time.\n",
        "\n",
        "# M0 = 0.1 mol/L\n",
        "# kp = 1e-1 L/mol*s\n",
        "# t = np.linspace(0,1000)"
      ]
    },
    {
      "cell_type": "code",
      "source": [],
      "metadata": {
        "id": "6A30Vjy53eKN"
      },
      "execution_count": null,
      "outputs": []
    }
  ]
}