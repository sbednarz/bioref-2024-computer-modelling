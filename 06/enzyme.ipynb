{
  "nbformat": 4,
  "nbformat_minor": 0,
  "metadata": {
    "colab": {
      "provenance": []
    },
    "kernelspec": {
      "name": "python3",
      "display_name": "Python 3"
    },
    "language_info": {
      "name": "python"
    }
  },
  "cells": [
    {
      "cell_type": "code",
      "execution_count": null,
      "metadata": {
        "id": "69K_ADSgHEGt"
      },
      "outputs": [],
      "source": [
        "import matplotlib.pyplot as plt\n",
        "import numpy as np\n",
        "from scipy.integrate import odeint\n",
        "\n",
        "# Develop a kinetic model for simple enzymatic reaction:\n",
        "# S ==Enzyme==> P\n",
        "# Plot 𝑆(𝑡), 𝑃(𝑡), 𝐸(𝑡), 𝐸𝑆(𝑡) for time ranged from 0 to\n",
        "# 1) 1 s (pre-equilibrium stage),\n",
        "# 2) 10000 s\n",
        "#\n",
        "#k1 = 500\n",
        "#k2 = 6\n",
        "#k3 = 1.5\n",
        "#S0 = 0.1\n",
        "#E0 = 0.00001\n",
        "\n",
        "# https://en.wikipedia.org/wiki/Enzyme\n",
        "# Simple enzymatic reaction\n",
        "# E + S <-> ES, k1, k2\n",
        "# ES -> E + P, k3\n",
        "\n",
        "def model(y, t):\n",
        "  E = y[0] # unpack variables\n",
        "  S = y[1]\n",
        "  ES = y[2]\n",
        "  P = y[3]\n",
        "  dEdt = -k1*E*S + k2*ES + k3*ES\n",
        "  dSdt = -k1*E*S + k2*ES\n",
        "  dESdt = k1*E*S - k2*ES - k3*ES\n",
        "  dPdt = k3*ES\n",
        "  return [dEdt, dSdt, dESdt, dPdt] # return derivatives"
      ]
    },
    {
      "cell_type": "code",
      "source": [
        "k1 = 500\n",
        "k2 = 6\n",
        "k3 = 1.5\n",
        "S0 = 0.1\n",
        "E0 = 0.00001\n",
        "ic = [E0, S0, 0, 0]\n",
        "\n",
        "t = np.linspace(0,1)\n",
        "\n",
        "results = odeint( model, ic, t)\n",
        "E = results[:,0]\n",
        "S = results[:,1]\n",
        "ES = results[:,2]\n",
        "P = results[:,3]\n"
      ],
      "metadata": {
        "id": "uK14Um-TOERt"
      },
      "execution_count": null,
      "outputs": []
    },
    {
      "cell_type": "code",
      "source": [
        "print (\"Substrate balance\")\n",
        "print (S + ES + P)\n",
        "print (\"Enzyme balance\")\n",
        "print (E + ES)"
      ],
      "metadata": {
        "colab": {
          "base_uri": "https://localhost:8080/"
        },
        "id": "gDsbUT_GTJF9",
        "outputId": "bb707e83-ceae-43bc-f6e3-d8b8c3b9d766"
      },
      "execution_count": null,
      "outputs": [
        {
          "output_type": "stream",
          "name": "stdout",
          "text": [
            "Substrate balance\n",
            "[0.1 0.1 0.1 0.1 0.1 0.1 0.1 0.1 0.1 0.1 0.1 0.1 0.1 0.1 0.1 0.1 0.1 0.1\n",
            " 0.1 0.1 0.1 0.1 0.1 0.1 0.1 0.1 0.1 0.1 0.1 0.1 0.1 0.1 0.1 0.1 0.1 0.1\n",
            " 0.1 0.1 0.1 0.1 0.1 0.1 0.1 0.1 0.1 0.1 0.1 0.1 0.1 0.1]\n",
            "Enzyme balance\n",
            "[1.e-05 1.e-05 1.e-05 1.e-05 1.e-05 1.e-05 1.e-05 1.e-05 1.e-05 1.e-05\n",
            " 1.e-05 1.e-05 1.e-05 1.e-05 1.e-05 1.e-05 1.e-05 1.e-05 1.e-05 1.e-05\n",
            " 1.e-05 1.e-05 1.e-05 1.e-05 1.e-05 1.e-05 1.e-05 1.e-05 1.e-05 1.e-05\n",
            " 1.e-05 1.e-05 1.e-05 1.e-05 1.e-05 1.e-05 1.e-05 1.e-05 1.e-05 1.e-05\n",
            " 1.e-05 1.e-05 1.e-05 1.e-05 1.e-05 1.e-05 1.e-05 1.e-05 1.e-05 1.e-05]\n"
          ]
        }
      ]
    },
    {
      "cell_type": "code",
      "source": [
        "# plots here"
      ],
      "metadata": {
        "id": "SOMjZdNxTMgk"
      },
      "execution_count": null,
      "outputs": []
    },
    {
      "cell_type": "code",
      "source": [
        "# Do computer simulations to prove the saturation curve shape\n",
        "# initial enzimatic reaction rate vs. initial substrate concentration\n",
        "# https://en.wikipedia.org/wiki/Enzyme\n",
        "\n",
        "# hint 1: initial rate = [c(t2) - c(t1)] / [t2 - t1], if t2-t1 is sufficiently small\n",
        "# hint 2: manual vs. automatic approach of the script\n",
        "# hint 3: data collecting: res_S0 = np.append(res_S0, S0)"
      ],
      "metadata": {
        "id": "SUvy_AoaTceA"
      },
      "execution_count": null,
      "outputs": []
    },
    {
      "cell_type": "code",
      "source": [],
      "metadata": {
        "id": "zRavqS6odZQ0"
      },
      "execution_count": null,
      "outputs": []
    }
  ]
}