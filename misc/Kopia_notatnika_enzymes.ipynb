{
  "nbformat": 4,
  "nbformat_minor": 0,
  "metadata": {
    "colab": {
      "provenance": []
    },
    "kernelspec": {
      "name": "python3",
      "display_name": "Python 3"
    },
    "language_info": {
      "name": "python"
    }
  },
  "cells": [
    {
      "cell_type": "code",
      "execution_count": null,
      "metadata": {
        "id": "69K_ADSgHEGt"
      },
      "outputs": [],
      "source": [
        "import matplotlib.pyplot as plt\n",
        "import numpy as np\n",
        "from scipy.integrate import odeint\n",
        "\n",
        "# Develop a kinetic model for simple enzymatic reaction:\n",
        "# S ==Enzyme==> P\n",
        "# Plot 𝑆(𝑡), 𝑃(𝑡), 𝐸(𝑡), 𝐸𝑆(𝑡) for time ranged from 0 to\n",
        "# 1) 1 s (pre-equilibrium stage),\n",
        "# 2) 10000 s\n",
        "#\n",
        "#k1 = 500\n",
        "#k2 = 6\n",
        "#k3 = 1.5\n",
        "#S0 = 0.1\n",
        "#E0 = 0.00001\n",
        "\n",
        "# https://en.wikipedia.org/wiki/Enzyme\n",
        "# Simple enzymatic reaction\n",
        "# E + S <-> ES, k1, k2\n",
        "# ES -> E + P, k3\n",
        "\n",
        "def model(y, t):\n",
        "  E = y[0] # unpack variables\n",
        "  S = y[1]\n",
        "  ES = y[2]\n",
        "  P = y[3]\n",
        "  dEdt = -k1*E*S + k2*ES + k3*ES\n",
        "  dSdt = -k1*E*S + k2*ES\n",
        "  dESdt = k1*E*S - k2*ES - k3*ES\n",
        "  dPdt = k3*ES\n",
        "  return [dEdt, dSdt, dESdt, dPdt] # return derivatives"
      ]
    },
    {
      "cell_type": "code",
      "source": [
        "k1 = 500\n",
        "k2 = 6\n",
        "k3 = 1.5\n",
        "S0 = 0.1\n",
        "E0 = 0.00001\n",
        "ic = [E0, S0, 0, 0]\n",
        "\n",
        "t = np.linspace(0,1)\n",
        "\n",
        "results = odeint( model, ic, t)\n",
        "E = results[:,0]\n",
        "S = results[:,1]\n",
        "ES = results[:,2]\n",
        "P = results[:,3]\n"
      ],
      "metadata": {
        "id": "uK14Um-TOERt"
      },
      "execution_count": null,
      "outputs": []
    },
    {
      "cell_type": "code",
      "source": [
        "print (\"Substrate balance\")\n",
        "print (S + ES + P)\n",
        "print (\"Enzyme balance\")\n",
        "print (E + ES)"
      ],
      "metadata": {
        "colab": {
          "base_uri": "https://localhost:8080/"
        },
        "id": "gDsbUT_GTJF9",
        "outputId": "4f65612d-1251-4153-b45b-a04ce3fbb47f"
      },
      "execution_count": null,
      "outputs": [
        {
          "output_type": "stream",
          "name": "stdout",
          "text": [
            "Substrate balance\n",
            "[0.1 0.1 0.1 0.1 0.1 0.1 0.1 0.1 0.1 0.1 0.1 0.1 0.1 0.1 0.1 0.1 0.1 0.1\n",
            " 0.1 0.1 0.1 0.1 0.1 0.1 0.1 0.1 0.1 0.1 0.1 0.1 0.1 0.1 0.1 0.1 0.1 0.1\n",
            " 0.1 0.1 0.1 0.1 0.1 0.1 0.1 0.1 0.1 0.1 0.1 0.1 0.1 0.1]\n",
            "Enzyme balance\n",
            "[1.e-05 1.e-05 1.e-05 1.e-05 1.e-05 1.e-05 1.e-05 1.e-05 1.e-05 1.e-05\n",
            " 1.e-05 1.e-05 1.e-05 1.e-05 1.e-05 1.e-05 1.e-05 1.e-05 1.e-05 1.e-05\n",
            " 1.e-05 1.e-05 1.e-05 1.e-05 1.e-05 1.e-05 1.e-05 1.e-05 1.e-05 1.e-05\n",
            " 1.e-05 1.e-05 1.e-05 1.e-05 1.e-05 1.e-05 1.e-05 1.e-05 1.e-05 1.e-05\n",
            " 1.e-05 1.e-05 1.e-05 1.e-05 1.e-05 1.e-05 1.e-05 1.e-05 1.e-05 1.e-05]\n"
          ]
        }
      ]
    },
    {
      "cell_type": "code",
      "source": [
        "# plots here"
      ],
      "metadata": {
        "id": "SOMjZdNxTMgk"
      },
      "execution_count": null,
      "outputs": []
    },
    {
      "cell_type": "code",
      "source": [
        "# Do computer simulations to prove the shape of the saturation curve\n",
        "# initial enzymatic reaction rate vs. initial substrate concentration\n",
        "# https://en.wikipedia.org/wiki/Enzyme\n",
        "\n",
        "# hint 1: initial rate = [c(t2) - c(t1)] / [t2 - t1], if t2-t1 is sufficiently small\n",
        "# hint 2: manual vs. automatic approach of the script\n",
        "# hint 3: res_S0 = np.append(res_S0, S0)\n"
      ],
      "metadata": {
        "id": "SUvy_AoaTceA"
      },
      "execution_count": null,
      "outputs": []
    },
    {
      "cell_type": "code",
      "source": [
        "res_S0 = np.array([])\n",
        "res_r0 = np.array([])\n",
        "\n",
        "\n",
        "for S0 in np.linspace(0.0001,1):\n",
        "  k1 = 500\n",
        "  k2 = 6\n",
        "  k3 = 1.5\n",
        "  E0 = 0.00001\n",
        "  ic = [E0, S0, 0, 0]\n",
        "\n",
        "  t = np.linspace(0,10000)\n",
        "\n",
        "  results = odeint( model, ic, t)\n",
        "  E = results[:,0]\n",
        "  S = results[:,1]\n",
        "  ES = results[:,2]\n",
        "  P = results[:,3]\n",
        "\n",
        "  r0 = -(S[1]-S[0])/(t[1]-t[0])\n",
        "  print(\"S0\",S0,\"initial rate\", r0)\n",
        "\n",
        "  res_S0 = np.append(res_S0, S0)\n",
        "  res_r0 = np.append(res_r0, r0)\n",
        "\n"
      ],
      "metadata": {
        "colab": {
          "base_uri": "https://localhost:8080/"
        },
        "id": "scTzY3YSWm_U",
        "outputId": "296cb63c-92ee-487c-918c-4fe01bbbfbf4"
      },
      "execution_count": null,
      "outputs": [
        {
          "output_type": "stream",
          "name": "stdout",
          "text": [
            "S0 0.0001 initial rate 9.017015047124541e-08\n",
            "S0 0.02050612244897959 initial rate 8.525810187110091e-06\n",
            "S0 0.04091224489795919 initial rate 1.092616885406946e-05\n",
            "S0 0.06131836734693878 initial rate 1.2040449791459093e-05\n",
            "S0 0.08172448979591837 initial rate 1.2681807221699399e-05\n",
            "S0 0.10213061224489796 initial rate 1.3098166934300873e-05\n",
            "S0 0.12253673469387756 initial rate 1.3390103118104058e-05\n",
            "S0 0.14294285714285712 initial rate 1.3606119490746992e-05\n",
            "S0 0.16334897959183672 initial rate 1.3772393287437986e-05\n",
            "S0 0.18375510204081633 initial rate 1.3904302040328538e-05\n",
            "S0 0.2041612244897959 initial rate 1.4011529531731484e-05\n",
            "S0 0.2245673469387755 initial rate 1.410039595555162e-05\n",
            "S0 0.2449734693877551 initial rate 1.417524405770765e-05\n",
            "S0 0.2653795918367347 initial rate 1.4239147528731243e-05\n",
            "S0 0.28578571428571425 initial rate 1.4294342868581238e-05\n",
            "S0 0.30619183673469386 initial rate 1.4342440294768971e-05\n",
            "S0 0.32659795918367346 initial rate 1.438483192561732e-05\n",
            "S0 0.34700408163265306 initial rate 1.4422427172022778e-05\n",
            "S0 0.36741020408163266 initial rate 1.4455993898773261e-05\n",
            "S0 0.3878163265306122 initial rate 1.4486146079675954e-05\n",
            "S0 0.4082224489795918 initial rate 1.4513380312362833e-05\n",
            "S0 0.4286285714285714 initial rate 1.4538100696734656e-05\n",
            "S0 0.449034693877551 initial rate 1.4560639937773267e-05\n",
            "S0 0.4694408163265306 initial rate 1.4581274510300001e-05\n",
            "S0 0.4898469387755102 initial rate 1.4600236056532112e-05\n",
            "S0 0.5102530612244898 initial rate 1.46177201230976e-05\n",
            "S0 0.5306591836734694 initial rate 1.4633892918082026e-05\n",
            "S0 0.551065306122449 initial rate 1.4648896623106154e-05\n",
            "S0 0.5714714285714285 initial rate 1.4662853581783985e-05\n",
            "S0 0.5918775510204082 initial rate 1.4675869642298555e-05\n",
            "S0 0.6122836734693877 initial rate 1.4688036846828256e-05\n",
            "S0 0.6326897959183674 initial rate 1.4699435611417588e-05\n",
            "S0 0.6530959183673469 initial rate 1.4710136505453286e-05\n",
            "S0 0.6735020408163265 initial rate 1.4720201714023283e-05\n",
            "S0 0.6939081632653061 initial rate 1.4729686221610738e-05\n",
            "S0 0.7143142857142857 initial rate 1.4738638894885747e-05\n",
            "S0 0.7347204081632653 initial rate 1.4747103251817516e-05\n",
            "S0 0.7551265306122449 initial rate 1.4755118183565973e-05\n",
            "S0 0.7755326530612244 initial rate 1.4762718558210207e-05\n",
            "S0 0.7959387755102041 initial rate 1.4769935727839655e-05\n",
            "S0 0.8163448979591836 initial rate 1.4776797960829856e-05\n",
            "S0 0.8367510204081633 initial rate 1.4783330811900418e-05\n",
            "S0 0.8571571428571428 initial rate 1.4789557440083e-05\n",
            "S0 0.8775632653061224 initial rate 1.4795498883050506e-05\n",
            "S0 0.897969387755102 initial rate 1.4801174294563534e-05\n",
            "S0 0.9183755102040816 initial rate 1.4806601150740205e-05\n",
            "S0 0.9387816326530612 initial rate 1.4811795429777784e-05\n",
            "S0 0.9591877551020408 initial rate 1.4816771775691317e-05\n",
            "S0 0.9795938775510205 initial rate 1.4821543609335041e-05\n",
            "S0 1.0 initial rate 1.4826123163189608e-05\n"
          ]
        }
      ]
    },
    {
      "cell_type": "code",
      "source": [
        "plt.plot(res_S0, res_r0, 'r-')"
      ],
      "metadata": {
        "colab": {
          "base_uri": "https://localhost:8080/",
          "height": 463
        },
        "id": "b-JINV4sYE5I",
        "outputId": "399e9f06-5c53-4414-af59-432807a66a12"
      },
      "execution_count": null,
      "outputs": [
        {
          "output_type": "execute_result",
          "data": {
            "text/plain": [
              "[<matplotlib.lines.Line2D at 0x788b7ebdbfd0>]"
            ]
          },
          "metadata": {},
          "execution_count": 56
        },
        {
          "output_type": "display_data",
          "data": {
            "text/plain": [
              "<Figure size 640x480 with 1 Axes>"
            ],
            "image/png": "[encoded data removed]"
          },
          "metadata": {}
        }
      ]
    },
    {
      "cell_type": "code",
      "source": [],
      "metadata": {
        "id": "zRavqS6odZQ0"
      },
      "execution_count": null,
      "outputs": []
    }
  ]
}