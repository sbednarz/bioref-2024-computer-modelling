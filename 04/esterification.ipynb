{
 "cells": [
  {
   "cell_type": "code",
   "execution_count": 11,
   "id": "ab5ab799-769d-4215-b393-b7e93226d0a0",
   "metadata": {},
   "outputs": [
    {
     "name": "stdout",
     "output_type": "stream",
     "text": [
      "Concentrations under equilibrium: [A]=3.98e-04, [B]=1.99e-02 [C]=7.97e-02\n",
      "Mass balance (validation) 0.1 = 0.1\n"
     ]
    }
   ],
   "source": [
    "# Warm-up example.\n",
    "# Try to understand the script:\n",
    "\n",
    "# A <=> B\n",
    "# B <=> C\n",
    "# A0 = 0.1\n",
    "# K1 = 50\n",
    "# K2 = 200\n",
    "\n",
    "import numpy as np\n",
    "from scipy.optimize import fsolve\n",
    "\n",
    "def model(X):\n",
    "    xi1, xi2 = X\n",
    "    A = A0 - xi1\n",
    "    B = B0 + xi1 - xi2\n",
    "    C = C0 + xi2\n",
    "    \n",
    "    eq1 = K1*A - B  # equivalent form of K1 - B/A\n",
    "    eq2 = K2*A - C  # equivalent form of K2 - C/B\n",
    "    \n",
    "    return [eq1, eq2]\n",
    "\n",
    "A0 = 0.1\n",
    "B0 = 0\n",
    "C0 = 0\n",
    "D0 = 0\n",
    "K1 = 50\n",
    "K2 = 200\n",
    "\n",
    "guess = [0.01,0.01]\n",
    "\n",
    "xi1, xi2 = fsolve(model, guess)\n",
    "A = A0 - xi1\n",
    "B = B0 + xi1 - xi2\n",
    "C = C0 + xi2\n",
    "print(\"Concentrations under equilibrium: [A]={:.2e}, [B]={:.2e} [C]={:.2e}\".format(A, B, C))\n",
    "\n",
    "print(\"Mass balance (validation)\", A+B+C, \"=\", A0+B0+C0)\n"
   ]
  },
  {
   "cell_type": "code",
   "execution_count": 18,
   "id": "f6491388-41d6-432f-a736-fe2b355afa9e",
   "metadata": {},
   "outputs": [],
   "source": [
    "# The miniproject-like exercise\n",
    "\n",
    "# An esterification process\n",
    "# M - methanol\n",
    "# A - acetic acid\n",
    "# E - ester (methyla acetate)\n",
    "# W - water (a reagent in this case !)\n",
    "# M + A <=> E + W\n",
    "# M0 = 2 mol/L\n",
    "# A0 = 2 mol/L\n",
    "# K = 34\n",
    "\n",
    "\n",
    "# Calculate species concentrations under equilibrium\n",
    "\n",
    "# Your model here\n",
    "\n",
    "\n",
    "\n",
    "\n",
    "\n",
    "\n",
    "\n",
    "# Answer:\n",
    "# Concentrations under equilibrium: [M]=0.29, [A]=0.29 [E]=1.71 W=1.71\n",
    "# M balance\n",
    "# print(M+E)\n",
    "# A balance\n",
    "# print(A+E)"
   ]
  },
  {
   "cell_type": "code",
   "execution_count": 20,
   "id": "461569f3-6a08-4ff0-ad58-ffe3287679cd",
   "metadata": {},
   "outputs": [],
   "source": [
    "# Ester hydrolysis\n",
    "\n",
    "# M + A <=> E + W\n",
    "# M0 = 0\n",
    "# A0 = 0\n",
    "# E0 = 5 mol/L\n",
    "# W0 = 5 mol/L\n",
    "# K = 10\n",
    "\n",
    "\n",
    "# Your code here\n",
    "\n",
    "\n",
    "\n",
    "# Answer\n",
    "# Concentrations under equilibrium: [M]=1.20, [A]=1.20 [E]=3.80 W=3.80\n",
    "# methanol balace: 5.0\n",
    "# acid balacne: 5.0\n"
   ]
  },
  {
   "cell_type": "code",
   "execution_count": 26,
   "id": "75800043-0760-44c2-a932-efe387bc8fe4",
   "metadata": {},
   "outputs": [
    {
     "name": "stdout",
     "output_type": "stream",
     "text": [
      "2\n",
      "11\n",
      "101\n",
      "1001\n"
     ]
    }
   ],
   "source": [
    "# Python loops (the come back)\n",
    "\n",
    "parameter_b = np.array([1,10,100,1000])\n",
    "\n",
    "for b in parameter_b:\n",
    "    x = b + 1 \n",
    "    print(x)\n",
    "    \n"
   ]
  },
  {
   "cell_type": "code",
   "execution_count": 27,
   "id": "74fb05a6-087c-4b99-adf6-0398c6e907fc",
   "metadata": {},
   "outputs": [
    {
     "name": "stdout",
     "output_type": "stream",
     "text": [
      "2\n",
      "11\n",
      "101\n",
      "1001\n",
      "11\n",
      "20\n",
      "110\n",
      "1010\n",
      "101\n",
      "110\n",
      "200\n",
      "1100\n",
      "1001\n",
      "1010\n",
      "1100\n",
      "2000\n"
     ]
    }
   ],
   "source": [
    "# nested loops\n",
    "\n",
    "parameter_b = np.array([1,10,100,1000])\n",
    "parameter_c = np.array([1,10,100,1000])\n",
    "\n",
    "for b in parameter_b:\n",
    "    for c in parameter_c:\n",
    "        x = b + c \n",
    "        print(x) # 4x4 = 16 iterations: 1+1, 1+10, 1+100, 1+1000,   10+1, 10+10, 10+100, 10+1000 ..."
   ]
  },
  {
   "cell_type": "code",
   "execution_count": null,
   "id": "b324d6c9-c56e-4a6d-a6fc-affc38e1265c",
   "metadata": {},
   "outputs": [],
   "source": []
  },
  {
   "cell_type": "code",
   "execution_count": 5,
   "id": "ecf179aa-d8b5-45bf-872b-bd6636fe7b94",
   "metadata": {},
   "outputs": [
    {
     "name": "stdout",
     "output_type": "stream",
     "text": [
      "Concentrations under equilibrium for A0=1.00e-01: [A]=3.98e-04, [B]=1.99e-02 [C]=7.97e-02\n",
      "Concentrations under equilibrium for A0=2.00e-01: [A]=7.97e-04, [B]=3.98e-02 [C]=1.59e-01\n",
      "Concentrations under equilibrium for A0=5.00e-01: [A]=1.99e-03, [B]=9.96e-02 [C]=3.98e-01\n",
      "Concentrations under equilibrium for A0=8.00e-01: [A]=3.19e-03, [B]=1.59e-01 [C]=6.37e-01\n",
      "Concentrations under equilibrium for A0=1.00e+00: [A]=3.98e-03, [B]=1.99e-01 [C]=7.97e-01\n"
     ]
    }
   ],
   "source": [
    "# loops & fsolve = a powerfull tool\n",
    "\n",
    "# A <=> B\n",
    "# B <=> C\n",
    "# A0 = 0.1 ... 1\n",
    "# K1 = 50\n",
    "# K2 = 200\n",
    "\n",
    "import numpy as np\n",
    "from scipy.optimize import fsolve\n",
    "\n",
    "def model(X):\n",
    "    xi1, xi2 = X\n",
    "    A = A0 - xi1\n",
    "    B = B0 + xi1 - xi2\n",
    "    C = C0 + xi2\n",
    "    \n",
    "    eq1 = K1*A - B  # equivalent form of K1 - B/A\n",
    "    eq2 = K2*A - C  # equivalent form of K2 - C/B\n",
    "    \n",
    "    return [eq1, eq2]\n",
    "\n",
    "\n",
    "A0_range = np.array([0.1,0.2,0.5,0.8,1.0])\n",
    "#A0_range = np.linspace(0.1,1)\n",
    "\n",
    "\n",
    "B0 = 0\n",
    "C0 = 0\n",
    "D0 = 0\n",
    "K1 = 50\n",
    "K2 = 200\n",
    "\n",
    "\n",
    "for A0 in A0_range:\n",
    "\n",
    "    guess = [0.01,0.01]\n",
    "\n",
    "    xi1, xi2 = fsolve(model, guess)\n",
    "    A = A0 - xi1\n",
    "    B = B0 + xi1 - xi2\n",
    "    C = C0 + xi2\n",
    "    print(\"Concentrations under equilibrium for A0={:.2e}: [A]={:.2e}, [B]={:.2e} [C]={:.2e}\".format(A0, A, B, C))\n"
   ]
  },
  {
   "cell_type": "code",
   "execution_count": 6,
   "id": "a6c57ee2-3f6a-4d6e-9e1f-b7f651d5ba73",
   "metadata": {},
   "outputs": [],
   "source": [
    "# TODO \n",
    "# 1) K1 = 1...100\n",
    "# 2) K1 = 1...100 & K2 = 1..100"
   ]
  },
  {
   "cell_type": "code",
   "execution_count": null,
   "id": "1017341c-8c57-4499-96d7-ffc2fef0ae73",
   "metadata": {},
   "outputs": [],
   "source": []
  }
 ],
 "metadata": {
  "kernelspec": {
   "display_name": "Python 3 (ipykernel)",
   "language": "python",
   "name": "python3"
  },
  "language_info": {
   "codemirror_mode": {
    "name": "ipython",
    "version": 3
   },
   "file_extension": ".py",
   "mimetype": "text/x-python",
   "name": "python",
   "nbconvert_exporter": "python",
   "pygments_lexer": "ipython3",
   "version": "3.10.10"
  }
 },
 "nbformat": 4,
 "nbformat_minor": 5
}
