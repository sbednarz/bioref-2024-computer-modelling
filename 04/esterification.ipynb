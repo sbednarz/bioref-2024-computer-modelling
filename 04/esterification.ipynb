{
 "cells": [
  {
   "cell_type": "code",
   "execution_count": 11,
   "id": "ab5ab799-769d-4215-b393-b7e93226d0a0",
   "metadata": {},
   "outputs": [
    {
     "name": "stdout",
     "output_type": "stream",
     "text": [
      "Concentrations under equilibrium: [A]=3.98e-04, [B]=1.99e-02 [C]=7.97e-02\n",
      "Mass balance (validation) 0.1 = 0.1\n"
     ]
    }
   ],
   "source": [
    "# Warm-up example.\n",
    "# Try to understand the script:\n",
    "\n",
    "# A <=> B\n",
    "# B <=> C\n",
    "# A0 = 0.1\n",
    "# K1 = 50\n",
    "# K2 = 200\n",
    "\n",
    "import numpy as np\n",
    "from scipy.optimize import fsolve\n",
    "\n",
    "def model(X):\n",
    "    xi1, xi2 = X\n",
    "    A = A0 - xi1\n",
    "    B = B0 + xi1 - xi2\n",
    "    C = C0 + xi2\n",
    "    \n",
    "    eq1 = K1*A - B  # equivalent form of K1 - B/A\n",
    "    eq2 = K2*A - C  # equivalent form of K2 - C/B\n",
    "    \n",
    "    return [eq1, eq2]\n",
    "\n",
    "A0 = 0.1\n",
    "B0 = 0\n",
    "C0 = 0\n",
    "D0 = 0\n",
    "K1 = 50\n",
    "K2 = 200\n",
    "\n",
    "guess = [0.01,0.01]\n",
    "\n",
    "xi1, xi2 = fsolve(model, guess)\n",
    "A = A0 - xi1\n",
    "B = B0 + xi1 - xi2\n",
    "C = C0 + xi2\n",
    "print(\"Concentrations under equilibrium: [A]={:.2e}, [B]={:.2e} [C]={:.2e}\".format(A, B, C))\n",
    "\n",
    "print(\"Mass balance (validation)\", A+B+C, \"=\", A0+B0+C0)\n"
   ]
  },
  {
   "cell_type": "code",
   "execution_count": null,
   "id": "f6491388-41d6-432f-a736-fe2b355afa9e",
   "metadata": {},
   "outputs": [],
   "source": []
  }
 ],
 "metadata": {
  "kernelspec": {
   "display_name": "Python 3 (ipykernel)",
   "language": "python",
   "name": "python3"
  },
  "language_info": {
   "codemirror_mode": {
    "name": "ipython",
    "version": 3
   },
   "file_extension": ".py",
   "mimetype": "text/x-python",
   "name": "python",
   "nbconvert_exporter": "python",
   "pygments_lexer": "ipython3",
   "version": "3.10.10"
  }
 },
 "nbformat": 4,
 "nbformat_minor": 5
}
